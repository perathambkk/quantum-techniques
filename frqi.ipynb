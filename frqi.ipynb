{
 "cells": [
  {
   "cell_type": "code",
   "execution_count": 1,
   "id": "7ebf6de5-7d01-45f7-98f5-fdcdf89b853a",
   "metadata": {},
   "outputs": [],
   "source": [
    "# Importing standard Qiskit libraries and configuring account\n",
    "import qiskit as qk\n",
    "from qiskit.visualization import plot_histogram\n",
    "from math import pi"
   ]
  },
  {
   "cell_type": "code",
   "execution_count": 2,
   "id": "4335098a-b979-45a8-ad23-65ea71ee887c",
   "metadata": {},
   "outputs": [
    {
     "data": {
      "text/plain": [
       "'1.4.3'"
      ]
     },
     "execution_count": 2,
     "metadata": {},
     "output_type": "execute_result"
    }
   ],
   "source": [
    "qk.__version__"
   ]
  },
  {
   "cell_type": "code",
   "execution_count": 3,
   "id": "ee2f1943-2c02-41cc-b262-c19bd9227b91",
   "metadata": {},
   "outputs": [
    {
     "data": {
      "text/plain": [
       "['AncillaRegister',\n",
       " 'ClassicalRegister',\n",
       " 'MissingOptionalLibraryError',\n",
       " 'QiskitError',\n",
       " 'QuantumCircuit',\n",
       " 'QuantumRegister',\n",
       " '__all__',\n",
       " '__builtins__',\n",
       " '__cached__',\n",
       " '__doc__',\n",
       " '__file__',\n",
       " '__loader__',\n",
       " '__name__',\n",
       " '__package__',\n",
       " '__path__',\n",
       " '__spec__',\n",
       " '__version__',\n",
       " '_accelerate',\n",
       " '_config',\n",
       " '_numpy_compat',\n",
       " '_user_config',\n",
       " 'assemble',\n",
       " 'assembler',\n",
       " 'circuit',\n",
       " 'compiler',\n",
       " 'converters',\n",
       " 'dagcircuit',\n",
       " 'exceptions',\n",
       " 'generate_preset_pass_manager',\n",
       " 'importlib',\n",
       " 'os',\n",
       " 'passmanager',\n",
       " 'providers',\n",
       " 'pulse',\n",
       " 'qasm3',\n",
       " 'qiskit',\n",
       " 'qobj',\n",
       " 'quantum_info',\n",
       " 'result',\n",
       " 'schedule',\n",
       " 'scheduler',\n",
       " 'sequence',\n",
       " 'synthesis',\n",
       " 'sys',\n",
       " 'transpile',\n",
       " 'transpiler',\n",
       " 'user_config',\n",
       " 'utils',\n",
       " 'version',\n",
       " 'visualization',\n",
       " 'warnings']"
      ]
     },
     "execution_count": 3,
     "metadata": {},
     "output_type": "execute_result"
    }
   ],
   "source": [
    "dir(qk)"
   ]
  },
  {
   "cell_type": "code",
   "execution_count": 4,
   "id": "411e0427-2cbe-4c69-8aee-316cef1d35bc",
   "metadata": {},
   "outputs": [
    {
     "data": {
      "text/html": [
       "<pre style=\"word-wrap: normal;white-space: pre;background: #fff0;line-height: 1.1;font-family: &quot;Courier New&quot;,Courier,monospace\">        ┌───┐ ░                                       ░                    »\n",
       "   q_0: ┤ H ├─░─────■──────■─────────────■────────────░──────────■──────■──»\n",
       "        ├───┤ ░     │    ┌─┴─┐         ┌─┴─┐          ░ ┌───┐    │    ┌─┴─┐»\n",
       "   q_1: ┤ H ├─░─────┼────┤ X ├────■────┤ X ├────■─────░─┤ X ├────┼────┤ X ├»\n",
       "        └───┘ ░ ┌───┴───┐└───┘┌───┴───┐└───┘┌───┴───┐ ░ └───┘┌───┴───┐└───┘»\n",
       "   q_2: ──────░─┤ Ry(0) ├─────┤ Ry(0) ├─────┤ Ry(0) ├─░──────┤ Ry(0) ├─────»\n",
       "              ░ └───────┘     └───────┘     └───────┘ ░      └───────┘     »\n",
       "meas: 3/═══════════════════════════════════════════════════════════════════»\n",
       "                                                                           »\n",
       "«                                ░ ┌───┐                                     »\n",
       "«   q_0: ───────────■────────────░─┤ X ├────■──────■─────────────■───────────»\n",
       "«                 ┌─┴─┐          ░ ├───┤    │    ┌─┴─┐         ┌─┴─┐         »\n",
       "«   q_1: ────■────┤ X ├────■─────░─┤ X ├────┼────┤ X ├────■────┤ X ├────■────»\n",
       "«        ┌───┴───┐└───┘┌───┴───┐ ░ └───┘┌───┴───┐└───┘┌───┴───┐└───┘┌───┴───┐»\n",
       "«   q_2: ┤ Ry(0) ├─────┤ Ry(0) ├─░──────┤ Ry(0) ├─────┤ Ry(0) ├─────┤ Ry(0) ├»\n",
       "«        └───────┘     └───────┘ ░      └───────┘     └───────┘     └───────┘»\n",
       "«meas: 3/════════════════════════════════════════════════════════════════════»\n",
       "«                                                                            »\n",
       "«         ░                                            ░ ┌─┐      \n",
       "«   q_0: ─░──────────■──────■─────────────■────────────░─┤M├──────\n",
       "«         ░ ┌───┐    │    ┌─┴─┐         ┌─┴─┐          ░ └╥┘┌─┐   \n",
       "«   q_1: ─░─┤ X ├────┼────┤ X ├────■────┤ X ├────■─────░──╫─┤M├───\n",
       "«         ░ └───┘┌───┴───┐└───┘┌───┴───┐└───┘┌───┴───┐ ░  ║ └╥┘┌─┐\n",
       "«   q_2: ─░──────┤ Ry(0) ├─────┤ Ry(0) ├─────┤ Ry(0) ├─░──╫──╫─┤M├\n",
       "«         ░      └───────┘     └───────┘     └───────┘ ░  ║  ║ └╥┘\n",
       "«meas: 3/═════════════════════════════════════════════════╩══╩══╩═\n",
       "«                                                         0  1  2 </pre>"
      ],
      "text/plain": [
       "        ┌───┐ ░                                       ░                    »\n",
       "   q_0: ┤ H ├─░─────■──────■─────────────■────────────░──────────■──────■──»\n",
       "        ├───┤ ░     │    ┌─┴─┐         ┌─┴─┐          ░ ┌───┐    │    ┌─┴─┐»\n",
       "   q_1: ┤ H ├─░─────┼────┤ X ├────■────┤ X ├────■─────░─┤ X ├────┼────┤ X ├»\n",
       "        └───┘ ░ ┌───┴───┐└───┘┌───┴───┐└───┘┌───┴───┐ ░ └───┘┌───┴───┐└───┘»\n",
       "   q_2: ──────░─┤ Ry(0) ├─────┤ Ry(0) ├─────┤ Ry(0) ├─░──────┤ Ry(0) ├─────»\n",
       "              ░ └───────┘     └───────┘     └───────┘ ░      └───────┘     »\n",
       "meas: 3/═══════════════════════════════════════════════════════════════════»\n",
       "                                                                           »\n",
       "«                                ░ ┌───┐                                     »\n",
       "«   q_0: ───────────■────────────░─┤ X ├────■──────■─────────────■───────────»\n",
       "«                 ┌─┴─┐          ░ ├───┤    │    ┌─┴─┐         ┌─┴─┐         »\n",
       "«   q_1: ────■────┤ X ├────■─────░─┤ X ├────┼────┤ X ├────■────┤ X ├────■────»\n",
       "«        ┌───┴───┐└───┘┌───┴───┐ ░ └───┘┌───┴───┐└───┘┌───┴───┐└───┘┌───┴───┐»\n",
       "«   q_2: ┤ Ry(0) ├─────┤ Ry(0) ├─░──────┤ Ry(0) ├─────┤ Ry(0) ├─────┤ Ry(0) ├»\n",
       "«        └───────┘     └───────┘ ░      └───────┘     └───────┘     └───────┘»\n",
       "«meas: 3/════════════════════════════════════════════════════════════════════»\n",
       "«                                                                            »\n",
       "«         ░                                            ░ ┌─┐      \n",
       "«   q_0: ─░──────────■──────■─────────────■────────────░─┤M├──────\n",
       "«         ░ ┌───┐    │    ┌─┴─┐         ┌─┴─┐          ░ └╥┘┌─┐   \n",
       "«   q_1: ─░─┤ X ├────┼────┤ X ├────■────┤ X ├────■─────░──╫─┤M├───\n",
       "«         ░ └───┘┌───┴───┐└───┘┌───┴───┐└───┘┌───┴───┐ ░  ║ └╥┘┌─┐\n",
       "«   q_2: ─░──────┤ Ry(0) ├─────┤ Ry(0) ├─────┤ Ry(0) ├─░──╫──╫─┤M├\n",
       "«         ░      └───────┘     └───────┘     └───────┘ ░  ║  ║ └╥┘\n",
       "«meas: 3/═════════════════════════════════════════════════╩══╩══╩═\n",
       "«                                                         0  1  2 "
      ]
     },
     "execution_count": 4,
     "metadata": {},
     "output_type": "execute_result"
    }
   ],
   "source": [
    "theta = 0 # all pixels black\n",
    "qc = qk.QuantumCircuit(3)\n",
    "\n",
    "\n",
    "qc.h(0)\n",
    "qc.h(1)\n",
    "\n",
    "qc.barrier()\n",
    "#Pixel 1\n",
    "\n",
    "qc.cry(theta,0,2)\n",
    "qc.cx(0,1)\n",
    "qc.cry(-theta,1,2)\n",
    "qc.cx(0,1)\n",
    "qc.cry(theta,1,2)\n",
    "\n",
    "qc.barrier()\n",
    "#Pixel 2\n",
    "\n",
    "qc.x(1)\n",
    "qc.cry(theta,0,2)\n",
    "qc.cx(0,1)\n",
    "qc.cry(-theta,1,2)\n",
    "qc.cx(0,1)\n",
    "qc.cry(theta,1,2)\n",
    "\n",
    "qc.barrier()\n",
    "\n",
    "qc.x(1)\n",
    "qc.x(0)\n",
    "qc.cry(theta,0,2)\n",
    "qc.cx(0,1)\n",
    "qc.cry(-theta,1,2)\n",
    "qc.cx(0,1)\n",
    "qc.cry(theta,1,2)\n",
    "\n",
    "\n",
    "qc.barrier()\n",
    "\n",
    "qc.x(1)\n",
    "\n",
    "qc.cry(theta,0,2)\n",
    "qc.cx(0,1)\n",
    "qc.cry(-theta,1,2)\n",
    "qc.cx(0,1)\n",
    "qc.cry(theta,1,2)\n",
    "\n",
    "qc.measure_all()\n",
    "\n",
    "qc.draw()"
   ]
  },
  {
   "cell_type": "code",
   "execution_count": 6,
   "id": "5e204d15-9389-42f6-a5e8-3bb75181ffa0",
   "metadata": {},
   "outputs": [
    {
     "data": {
      "text/plain": [
       "['Backend',\n",
       " 'BackendConfigurationError',\n",
       " 'BackendPropertyError',\n",
       " 'BackendV1',\n",
       " 'BackendV2',\n",
       " 'BackendV2Converter',\n",
       " 'Job',\n",
       " 'JobError',\n",
       " 'JobStatus',\n",
       " 'JobTimeoutError',\n",
       " 'JobV1',\n",
       " 'Options',\n",
       " 'Provider',\n",
       " 'ProviderV1',\n",
       " 'QiskitBackendNotFoundError',\n",
       " 'QubitProperties',\n",
       " '__builtins__',\n",
       " '__cached__',\n",
       " '__doc__',\n",
       " '__file__',\n",
       " '__loader__',\n",
       " '__name__',\n",
       " '__package__',\n",
       " '__path__',\n",
       " '__spec__',\n",
       " 'backend',\n",
       " 'backend_compat',\n",
       " 'convert_to_target',\n",
       " 'exceptions',\n",
       " 'job',\n",
       " 'jobstatus',\n",
       " 'models',\n",
       " 'options',\n",
       " 'provider']"
      ]
     },
     "execution_count": 6,
     "metadata": {},
     "output_type": "execute_result"
    }
   ],
   "source": [
    "dir(qk.providers)"
   ]
  },
  {
   "cell_type": "code",
   "execution_count": 7,
   "id": "5d7b743a-8e33-437c-8996-f50bc8f1be70",
   "metadata": {},
   "outputs": [],
   "source": [
    "from qiskit.providers.basic_provider import BasicProvider\n",
    " \n",
    "backend = BasicProvider().get_backend('basic_simulator')"
   ]
  },
  {
   "cell_type": "code",
   "execution_count": 8,
   "id": "8af18d5a-2cfe-45cb-84e8-ae27c751323a",
   "metadata": {},
   "outputs": [
    {
     "data": {
      "image/png": "[encoded data removed]",
      "text/plain": [
       "<Figure size 640x480 with 1 Axes>"
      ]
     },
     "execution_count": 8,
     "metadata": {},
     "output_type": "execute_result"
    }
   ],
   "source": [
    "# If you do not specify the number of shots, the default is 1024\n",
    "result = backend.run(qc, shots=2000).result()   \n",
    "\n",
    "# Extract the counts of 0 and 1 measurements\n",
    "counts = result.get_counts()                    \n",
    "plot_histogram(counts)"
   ]
  },
  {
   "cell_type": "code",
   "execution_count": 11,
   "id": "ba364549-520f-49d5-b527-d2c59a7d67fd",
   "metadata": {},
   "outputs": [
    {
     "name": "stderr",
     "output_type": "stream",
     "text": [
      "C:\\Users\\calze\\miniconda3\\Lib\\site-packages\\qiskit\\providers\\fake_provider\\generic_backend_v2.py:975: RuntimeWarning: Aer not found using BasicSimulator and no noise\n",
      "  warnings.warn(\"Aer not found using BasicSimulator and no noise\", RuntimeWarning)\n"
     ]
    },
    {
     "data": {
      "image/png": "[encoded data removed]",
      "text/plain": [
       "<Figure size 640x480 with 1 Axes>"
      ]
     },
     "execution_count": 11,
     "metadata": {},
     "output_type": "execute_result"
    }
   ],
   "source": [
    "from qiskit.providers.fake_provider import GenericBackendV2\n",
    " \n",
    "# Generate a 4-qubit simulated fake backend\n",
    "# Several legacy fake backends are replaced with GenericBackendV2 in 1.0\n",
    "backend = GenericBackendV2(num_qubits=4)  \n",
    "\n",
    "# Transpile and run\n",
    "transpiled_circuit = qk.transpile(qc, backend)\n",
    "result = backend.run(transpiled_circuit).result()\n",
    "\n",
    "counts = result.get_counts()\n",
    "plot_histogram(counts)"
   ]
  },
  {
   "cell_type": "code",
   "execution_count": null,
   "id": "bda9004c-4e83-412e-ad6d-4b0a0892122c",
   "metadata": {},
   "outputs": [],
   "source": []
  },
  {
   "cell_type": "code",
   "execution_count": null,
   "id": "5276422d-ef78-4ed1-8ce2-e8e273a41788",
   "metadata": {},
   "outputs": [],
   "source": []
  }
 ],
 "metadata": {
  "kernelspec": {
   "display_name": "Python 3 (ipykernel)",
   "language": "python",
   "name": "python3"
  },
  "language_info": {
   "codemirror_mode": {
    "name": "ipython",
    "version": 3
   },
   "file_extension": ".py",
   "mimetype": "text/x-python",
   "name": "python",
   "nbconvert_exporter": "python",
   "pygments_lexer": "ipython3",
   "version": "3.13.2"
  }
 },
 "nbformat": 4,
 "nbformat_minor": 5
}
